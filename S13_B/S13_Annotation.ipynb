{
 "cells": [
  {
   "cell_type": "code",
   "execution_count": 20,
   "metadata": {},
   "outputs": [],
   "source": [
    "# resizing images\n",
    "from PIL import Image\n",
    "import os, sys\n",
    "\n",
    "path = \"C:\\Users\\divva\\Downloads\\YoloV3_Annotation_Tool\\Images\\divya 2\"\n",
    "dirs = os.listdir( path )\n",
    "\n",
    "def resize():\n",
    "    for item in dirs:\n",
    "        if os.path.isfile(path+item):\n",
    "            im = Image.open(path+item)\n",
    "            f, e = os.path.splitext(path+item)\n",
    "            imResize = im.resize((64,64), Image.ANTIALIAS)\n",
    "            imResize.save(f + ' resized'+item+'.jpg', 'JPEG', quality=90)\n",
    "\n",
    "resize()"
   ]
  },
  {
   "cell_type": "code",
   "execution_count": 14,
   "metadata": {},
   "outputs": [],
   "source": [
    "import os\n",
    "import glob\n",
    "  \n",
    "# Function to rename multiple files \n",
    "def main(): \n",
    "    path = \"C:/Users/divva/Downloads/YoloV3_Annotation_Tool/Images/vexy/\"\n",
    "    for count, filename in enumerate(sorted(os.listdir(path))):\n",
    "        '''fn = filename.split('_')\n",
    "        cc = \"\"\n",
    "        if(count >= 0 and count < 9 ):\n",
    "            cc = str(\"00\")\n",
    "        if((count >= 9 and count < 99)):\n",
    "            cc = str(\"0\")\n",
    "        if((count >= 99)):\n",
    "            cc = \"\"'''\n",
    "        dst =\"V_\" + str(count+1) + \".jpg\"\n",
    "        src =path + filename \n",
    "        dst =path + dst \n",
    "\n",
    "        # rename() function will \n",
    "        # rename all the files \n",
    "        os.rename(src, dst) \n",
    "\n",
    "# Driver Code \n",
    "if __name__ == '__main__': \n",
    "      \n",
    "    # Calling main() function \n",
    "    main() "
   ]
  },
  {
   "cell_type": "code",
   "execution_count": 26,
   "metadata": {},
   "outputs": [],
   "source": [
    "def custom():\n",
    "    path = \"C:/Users/divva/Downloads/YoloV3_Annotation_Tool/Images/\"\n",
    "    file = \"./data/customdata/images/\"\n",
    "    file1 = open(\"C:/Users/divva/Downloads/YoloV3_Annotation_Tool/custom.txt\",\"w\")\n",
    "    for count, filename in enumerate(os.listdir(path)):\n",
    "        fn = (path + filename).split(\"/\")\n",
    "        file1.write(file + fn[6] + \"\\n\")\n",
    "\n",
    "custom()"
   ]
  },
  {
   "cell_type": "code",
   "execution_count": 38,
   "metadata": {},
   "outputs": [
    {
     "name": "stderr",
     "output_type": "stream",
     "text": [
      "Cloning into 'YoloV3_Annotation_Tool'...\n"
     ]
    }
   ],
   "source": [
    "!git clone https://github.com/miki998/YoloV3_Annotation_Tool.git"
   ]
  },
  {
   "cell_type": "code",
   "execution_count": 1,
   "metadata": {},
   "outputs": [
    {
     "name": "stdout",
     "output_type": "stream",
     "text": [
      "C:\\Users\\divva\\Downloads\n"
     ]
    }
   ],
   "source": [
    "!cd"
   ]
  },
  {
   "cell_type": "code",
   "execution_count": 40,
   "metadata": {},
   "outputs": [
    {
     "name": "stdout",
     "output_type": "stream",
     "text": [
      " Volume in drive C is Windows-SSD\n",
      " Volume Serial Number is 66A4-19BC\n",
      "\n",
      " Directory of C:\\Users\\divva\\Downloads\\YoloV3_Annotation_Tool\n",
      "\n",
      "23/04/2020  23:59    <DIR>          .\n",
      "23/04/2020  23:59    <DIR>          ..\n",
      "23/04/2020  16:30                10 classes.txt\n",
      "23/04/2020  23:30    <DIR>          Images\n",
      "23/04/2020  17:39    <DIR>          Labels\n",
      "23/04/2020  16:25            15,880 main.py\n",
      "23/04/2020  16:35             1,737 process.py\n",
      "23/04/2020  16:25             1,994 README.md\n",
      "23/04/2020  16:25             2,673 resize.py\n",
      "23/04/2020  16:25             1,898 standardize.py\n",
      "23/04/2020  19:47               259 test.txt\n",
      "23/04/2020  19:47             2,333 train.txt\n",
      "23/04/2020  16:25             2,104 verify.py\n",
      "23/04/2020  23:59    <DIR>          YoloV3_Annotation_Tool\n",
      "               9 File(s)         28,888 bytes\n",
      "               5 Dir(s)  17,433,878,528 bytes free\n"
     ]
    }
   ],
   "source": [
    "!dir"
   ]
  },
  {
   "cell_type": "code",
   "execution_count": 8,
   "metadata": {},
   "outputs": [],
   "source": [
    "import os\n",
    "os.chdir(r'C:/Users/divva/Downloads/YoloV3_Annotation_Tool')"
   ]
  },
  {
   "cell_type": "code",
   "execution_count": 9,
   "metadata": {},
   "outputs": [
    {
     "name": "stdout",
     "output_type": "stream",
     "text": [
      "C:\\Users\\divva\\Downloads\\YoloV3_Annotation_Tool\n"
     ]
    }
   ],
   "source": [
    "!cd"
   ]
  },
  {
   "cell_type": "code",
   "execution_count": 10,
   "metadata": {},
   "outputs": [
    {
     "name": "stdout",
     "output_type": "stream",
     "text": [
      " Volume in drive C is Windows-SSD\n",
      " Volume Serial Number is 66A4-19BC\n",
      "\n",
      " Directory of C:\\Users\\divva\\Downloads\\YoloV3_Annotation_Tool\n",
      "\n",
      "24/04/2020  22:13    <DIR>          .\n",
      "24/04/2020  22:13    <DIR>          ..\n",
      "24/04/2020  11:37            10,244 .DS_Store\n",
      "24/04/2020  20:06    <DIR>          .ipynb_checkpoints\n",
      "25/04/2020  22:07                21 classes.txt\n",
      "24/04/2020  23:11               114 custom.data\n",
      "24/04/2020  20:49                 8 custom.names\n",
      "24/04/2020  20:46            17,548 custom.txt\n",
      "24/04/2020  19:16    <DIR>          custom_dataset\n",
      "24/04/2020  19:16    <DIR>          custom_labels\n",
      "24/04/2020  15:23        11,353,104 final_images.rar\n",
      "25/04/2020  22:08    <DIR>          Images\n",
      "24/04/2020  22:13        11,270,285 Images.rar\n",
      "24/04/2020  20:12    <DIR>          im_now\n",
      "24/04/2020  22:12    <DIR>          Labels\n",
      "24/04/2020  22:13            53,735 Labels.rar\n",
      "24/04/2020  19:19    <DIR>          lb_now\n",
      "23/04/2020  16:25            15,880 main.py\n",
      "23/04/2020  16:35             1,737 process.py\n",
      "23/04/2020  16:25             1,994 README.md\n",
      "23/04/2020  16:25             2,673 resize.py\n",
      "23/04/2020  16:25             1,898 standardize.py\n",
      "24/04/2020  15:38             1,339 test.txt\n",
      "24/04/2020  15:38            12,053 train.txt\n",
      "24/04/2020  20:06             2,031 Untitled.ipynb\n",
      "23/04/2020  21:52             5,464 Untitled1.ipynb\n",
      "23/04/2020  16:25             2,104 verify.py\n",
      "              18 File(s)     22,752,232 bytes\n",
      "               9 Dir(s)  17,028,526,080 bytes free\n"
     ]
    }
   ],
   "source": [
    "!dir"
   ]
  },
  {
   "cell_type": "code",
   "execution_count": 15,
   "metadata": {},
   "outputs": [
    {
     "name": "stdout",
     "output_type": "stream",
     "text": [
      "124 images loaded from vexy\n",
      "Image No. 1 saved\n",
      "Image No. 2 saved\n",
      "Image No. 3 saved\n",
      "Image No. 4 saved\n",
      "Image No. 5 saved\n",
      "Image No. 6 saved\n",
      "Image No. 7 saved\n",
      "Image No. 8 saved\n",
      "Image No. 9 saved\n",
      "Image No. 10 saved\n",
      "Image No. 11 saved\n",
      "Image No. 10 saved\n",
      "Image No. 11 saved\n",
      "Image No. 12 saved\n",
      "Image No. 13 saved\n",
      "Image No. 14 saved\n",
      "Image No. 15 saved\n",
      "Image No. 16 saved\n",
      "Image No. 17 saved\n",
      "Image No. 18 saved\n",
      "Image No. 19 saved\n",
      "Image No. 20 saved\n",
      "Image No. 21 saved\n",
      "Image No. 22 saved\n",
      "Image No. 23 saved\n",
      "Image No. 24 saved\n",
      "Image No. 25 saved\n",
      "Image No. 26 saved\n",
      "Image No. 27 saved\n",
      "Image No. 28 saved\n",
      "Image No. 29 saved\n",
      "Image No. 30 saved\n",
      "Image No. 31 saved\n",
      "Image No. 32 saved\n",
      "Image No. 33 saved\n",
      "Image No. 34 saved\n",
      "Image No. 35 saved\n",
      "Image No. 36 saved\n",
      "Image No. 37 saved\n",
      "Image No. 38 saved\n",
      "Image No. 39 saved\n",
      "Image No. 40 saved\n",
      "Image No. 41 saved\n",
      "Image No. 42 saved\n",
      "Image No. 43 saved\n",
      "Image No. 44 saved\n",
      "Image No. 45 saved\n",
      "Image No. 46 saved\n",
      "Image No. 47 saved\n",
      "Image No. 48 saved\n",
      "Image No. 49 saved\n",
      "Image No. 50 saved\n",
      "Image No. 51 saved\n",
      "Image No. 52 saved\n",
      "Image No. 53 saved\n",
      "Image No. 54 saved\n",
      "Image No. 55 saved\n",
      "Image No. 56 saved\n",
      "Image No. 57 saved\n",
      "Image No. 58 saved\n",
      "Image No. 59 saved\n",
      "Image No. 60 saved\n",
      "Image No. 61 saved\n",
      "Image No. 62 saved\n",
      "Image No. 63 saved\n",
      "Image No. 64 saved\n",
      "Image No. 65 saved\n",
      "Image No. 66 saved\n",
      "Image No. 67 saved\n",
      "Image No. 68 saved\n",
      "Image No. 69 saved\n",
      "Image No. 70 saved\n",
      "Image No. 71 saved\n",
      "Image No. 72 saved\n",
      "Image No. 73 saved\n",
      "Image No. 74 saved\n",
      "Image No. 75 saved\n",
      "Image No. 76 saved\n",
      "Image No. 77 saved\n",
      "Image No. 78 saved\n",
      "Image No. 79 saved\n",
      "Image No. 80 saved\n",
      "Image No. 81 saved\n",
      "Image No. 82 saved\n",
      "Image No. 83 saved\n",
      "Image No. 84 saved\n",
      "Image No. 85 saved\n",
      "Image No. 86 saved\n",
      "Image No. 85 saved\n",
      "Image No. 86 saved\n",
      "Image No. 87 saved\n",
      "Image No. 88 saved\n",
      "Image No. 89 saved\n",
      "Image No. 90 saved\n",
      "Image No. 91 saved\n",
      "Image No. 92 saved\n",
      "Image No. 93 saved\n",
      "Image No. 94 saved\n",
      "Image No. 95 saved\n",
      "Image No. 96 saved\n",
      "Image No. 97 saved\n",
      "Image No. 98 saved\n",
      "Image No. 99 saved\n",
      "Image No. 100 saved\n",
      "Image No. 99 saved\n",
      "Image No. 100 saved\n",
      "Image No. 101 saved\n",
      "Image No. 102 saved\n",
      "Image No. 103 saved\n",
      "Image No. 104 saved\n",
      "Image No. 105 saved\n",
      "Image No. 106 saved\n",
      "Image No. 107 saved\n",
      "Image No. 108 saved\n",
      "Image No. 109 saved\n",
      "Image No. 110 saved\n",
      "Image No. 111 saved\n",
      "Image No. 112 saved\n",
      "Image No. 113 saved\n",
      "Image No. 114 saved\n",
      "Image No. 115 saved\n",
      "Image No. 116 saved\n",
      "Image No. 117 saved\n",
      "Image No. 118 saved\n",
      "Image No. 119 saved\n",
      "Image No. 120 saved\n",
      "Image No. 121 saved\n",
      "Image No. 122 saved\n",
      "Image No. 123 saved\n",
      "Image No. 124 saved\n"
     ]
    }
   ],
   "source": [
    "!python main.py"
   ]
  },
  {
   "cell_type": "code",
   "execution_count": 15,
   "metadata": {},
   "outputs": [
    {
     "name": "stdout",
     "output_type": "stream",
     "text": [
      "C:\\Users\\divva\\Downloads\\YoloV3_Annotation_Tool\n"
     ]
    }
   ],
   "source": [
    "!cd"
   ]
  },
  {
   "cell_type": "code",
   "execution_count": 24,
   "metadata": {},
   "outputs": [
    {
     "name": "stdout",
     "output_type": "stream",
     "text": [
      "Warning: we assume that all pictures to be processed are jpgs\n"
     ]
    }
   ],
   "source": [
    "!python process.py Images/shinchan"
   ]
  },
  {
   "cell_type": "code",
   "execution_count": null,
   "metadata": {},
   "outputs": [],
   "source": []
  }
 ],
 "metadata": {
  "kernelspec": {
   "display_name": "Python 3",
   "language": "python",
   "name": "python3"
  },
  "language_info": {
   "codemirror_mode": {
    "name": "ipython",
    "version": 3
   },
   "file_extension": ".py",
   "mimetype": "text/x-python",
   "name": "python",
   "nbconvert_exporter": "python",
   "pygments_lexer": "ipython3",
   "version": "3.7.3"
  }
 },
 "nbformat": 4,
 "nbformat_minor": 2
}
